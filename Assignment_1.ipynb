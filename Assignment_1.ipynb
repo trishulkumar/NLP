{
  "nbformat": 4,
  "nbformat_minor": 5,
  "metadata": {
    "kernelspec": {
      "display_name": "Python 3",
      "language": "python",
      "name": "python3"
    },
    "language_info": {
      "codemirror_mode": {
        "name": "ipython",
        "version": 3
      },
      "file_extension": ".py",
      "mimetype": "text/x-python",
      "name": "python",
      "nbconvert_exporter": "python",
      "pygments_lexer": "ipython3",
      "version": "3.8.8"
    },
    "colab": {
      "name": "Assignment-1.ipynb",
      "provenance": []
    }
  },
  "cells": [
    {
      "cell_type": "code",
      "metadata": {
        "id": "24cd079d",
        "outputId": "2cac2f6d-4a86-438c-fee8-e8862542bdcf"
      },
      "source": [
        "#1. Split the above paragraph into sentences\n",
        "import nltk\n",
        "from nltk.tokenize import sent_tokenize\n",
        "txt='''Are  you  fascinated  by  the  amount  of  text  data  available  on  the  internet?  Are  you \n",
        "looking  for  ways  to  work  with  this  text  data  but  aren’t  sure  where  to  begin? \n",
        "Machines, after all, recognize numbers, not the letters of our language. And that can \n",
        "be a tricky landscape to navigate in machine learning.'''\n",
        "print(sent_tokenize(txt))"
      ],
      "id": "24cd079d",
      "execution_count": null,
      "outputs": [
        {
          "name": "stdout",
          "output_type": "stream",
          "text": [
            "['Are  you  fascinated  by  the  amount  of  text  data  available  on  the  internet?', 'Are  you \\nlooking  for  ways  to  work  with  this  text  data  but  aren’t  sure  where  to  begin?', 'Machines, after all, recognize numbers, not the letters of our language.', 'And that can \\nbe a tricky landscape to navigate in machine learning.']\n"
          ]
        }
      ]
    },
    {
      "cell_type": "code",
      "metadata": {
        "id": "91e0cc5c",
        "outputId": "894e9f79-a88e-4851-f859-f019354349bd"
      },
      "source": [
        "#2. Split the above paragraph into words\n",
        "from nltk.tokenize import word_tokenize\n",
        "print(word_tokenize(txt))"
      ],
      "id": "91e0cc5c",
      "execution_count": null,
      "outputs": [
        {
          "name": "stdout",
          "output_type": "stream",
          "text": [
            "['Are', 'you', 'fascinated', 'by', 'the', 'amount', 'of', 'text', 'data', 'available', 'on', 'the', 'internet', '?', 'Are', 'you', 'looking', 'for', 'ways', 'to', 'work', 'with', 'this', 'text', 'data', 'but', 'aren', '’', 't', 'sure', 'where', 'to', 'begin', '?', 'Machines', ',', 'after', 'all', ',', 'recognize', 'numbers', ',', 'not', 'the', 'letters', 'of', 'our', 'language', '.', 'And', 'that', 'can', 'be', 'a', 'tricky', 'landscape', 'to', 'navigate', 'in', 'machine', 'learning', '.']\n"
          ]
        }
      ]
    },
    {
      "cell_type": "code",
      "metadata": {
        "id": "ca23005c",
        "outputId": "61461f9f-b2be-43e0-db29-2ac16d2ff301"
      },
      "source": [
        "#3. Find stem words for the given words?\n",
        "from nltk.stem.porter import PorterStemmer\n",
        "porter_stemmer=PorterStemmer()\n",
        "words=['cats','trouble','troubling','troubled','having','Corriendo','at','was']\n",
        "print(\"stem word for :\")\n",
        "for w in words:\n",
        "    print(\"  {} is {}\".format(w,porter_stemmer.stem(w)))"
      ],
      "id": "ca23005c",
      "execution_count": null,
      "outputs": [
        {
          "name": "stdout",
          "output_type": "stream",
          "text": [
            "stem word for :\n",
            "  cats is cat\n",
            "  trouble is troubl\n",
            "  troubling is troubl\n",
            "  troubled is troubl\n",
            "  having is have\n",
            "  Corriendo is corriendo\n",
            "  at is at\n",
            "  was is wa\n"
          ]
        }
      ]
    },
    {
      "cell_type": "code",
      "metadata": {
        "id": "1f97c089",
        "outputId": "e03697e4-f00b-4f5c-d772-bc2f038cf492"
      },
      "source": [
        "#3. Find lemma words for the given words?\n",
        "from nltk.stem import WordNetLemmatizer\n",
        "wordnet_lemmatizer=WordNetLemmatizer()\n",
        "words=['cats','trouble','troubling','troubled','having','Corriendo','at','was']\n",
        "print(\"lemma word for :\")\n",
        "for w in words:\n",
        "    print(\"   {} is {}\".format(w,w, wordnet_lemmatizer.lemmatize(w)))"
      ],
      "id": "1f97c089",
      "execution_count": null,
      "outputs": [
        {
          "name": "stdout",
          "output_type": "stream",
          "text": [
            "lemma word for :\n",
            "   cats is cats\n",
            "   trouble is trouble\n",
            "   troubling is troubling\n",
            "   troubled is troubled\n",
            "   having is having\n",
            "   Corriendo is Corriendo\n",
            "   at is at\n",
            "   was is was\n"
          ]
        }
      ]
    },
    {
      "cell_type": "code",
      "metadata": {
        "id": "e3f2d1d2",
        "outputId": "7efc9aab-e16d-402a-b062-2ef7983ca194"
      },
      "source": [
        "#4. Find stop words from the given paragraph?\n",
        "from nltk.corpus import stopwords\n",
        "from nltk.tokenize import word_tokenize\n",
        "paragraph='''he NLTK library  is  one  of  the  oldest  and  most  commonly  used  Python  libraries  for \n",
        "Natural Language Processing. NLTK supports stop word removal, and you can find the list \n",
        "of stop words in the  corpus  module. To remove stop words from a sentence, you can divide \n",
        "your text into words and then remove the word if it exits in the list of stop words provided \n",
        "by NLTK.'''\n",
        "stopwords=set(stopwords.words('english'))\n",
        "words=word_tokenize(paragraph)\n",
        "res=[w for w in words if not w.lower() in stopwords]\n",
        "res=[]\n",
        "for w in words:\n",
        "    if w not in stopwords:\n",
        "        res.append(w)\n",
        "print(res)"
      ],
      "id": "e3f2d1d2",
      "execution_count": null,
      "outputs": [
        {
          "name": "stdout",
          "output_type": "stream",
          "text": [
            "['NLTK', 'library', 'one', 'oldest', 'commonly', 'used', 'Python', 'libraries', 'Natural', 'Language', 'Processing', '.', 'NLTK', 'supports', 'stop', 'word', 'removal', ',', 'find', 'list', 'stop', 'words', 'corpus', 'module', '.', 'To', 'remove', 'stop', 'words', 'sentence', ',', 'divide', 'text', 'words', 'remove', 'word', 'exits', 'list', 'stop', 'words', 'provided', 'NLTK', '.']\n"
          ]
        }
      ]
    },
    {
      "cell_type": "code",
      "metadata": {
        "id": "95589596",
        "outputId": "cc6a0b59-e147-4fd0-f50e-f6b529b3193d"
      },
      "source": [
        "#5. From the above paragraph print frequency of each word using NLTK?import nltk\n",
        "from nltk.corpus import webtext\n",
        "from nltk.probability import FreqDist\n",
        "from nltk.tokenize import word_tokenize\n",
        "w=word_tokenize(paragraph)\n",
        "data_analysis=nltk.FreqDist(w)\n",
        "filter_words=dict([(m, n) for m, n in data_analysis.items() if len(m) > 3])\n",
        "for key in sorted(filter_words):\n",
        "    print(\"%s: %s\" % (key, filter_words[key]))\n",
        "dt_a=nltk.FreqDist(filter_words)\n",
        "dt_a.plot(25, cumulative=False)"
      ],
      "id": "95589596",
      "execution_count": null,
      "outputs": [
        {
          "name": "stdout",
          "output_type": "stream",
          "text": [
            "Language: 1\n",
            "NLTK: 3\n",
            "Natural: 1\n",
            "Processing: 1\n",
            "Python: 1\n",
            "commonly: 1\n",
            "corpus: 1\n",
            "divide: 1\n",
            "exits: 1\n",
            "find: 1\n",
            "from: 1\n",
            "into: 1\n",
            "libraries: 1\n",
            "library: 1\n",
            "list: 2\n",
            "module: 1\n",
            "most: 1\n",
            "oldest: 1\n",
            "provided: 1\n",
            "removal: 1\n",
            "remove: 2\n",
            "sentence: 1\n",
            "stop: 4\n",
            "supports: 1\n",
            "text: 1\n",
            "then: 1\n",
            "used: 1\n",
            "word: 2\n",
            "words: 4\n",
            "your: 1\n"
          ]
        },
        {
          "data": {
            "image/png": "[encoded data removed]",
            "text/plain": [
              "<Figure size 432x288 with 1 Axes>"
            ]
          },
          "metadata": {
            "needs_background": "light"
          },
          "output_type": "display_data"
        },
        {
          "data": {
            "text/plain": [
              "<AxesSubplot:xlabel='Samples', ylabel='Counts'>"
            ]
          },
          "execution_count": 16,
          "metadata": {},
          "output_type": "execute_result"
        }
      ]
    },
    {
      "cell_type": "code",
      "metadata": {
        "id": "da7b7e7c"
      },
      "source": [
        ""
      ],
      "id": "da7b7e7c",
      "execution_count": null,
      "outputs": []
    }
  ]
}